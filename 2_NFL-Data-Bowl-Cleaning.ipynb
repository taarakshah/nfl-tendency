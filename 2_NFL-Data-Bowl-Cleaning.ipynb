{
 "cells": [
  {
   "cell_type": "markdown",
   "id": "98398a88",
   "metadata": {},
   "source": [
    "# NFL Data Bowl Analysis\n",
    "\n",
    "This notebook will go through the methodology of data collection, analysis, and results of a narrowed-down analysis to only passing plays in the 2018 NFL season. The data is obtained from the NFL's 2021 Big Data Bowl: https://www.kaggle.com/c/nfl-big-data-bowl-2021/\n",
    "\n",
    "*There is potential to combine the 2020 data bowl data, which contains similar info to 2021 data bowl data except about rushing plays 2017-2019. Combining these sources to produce a similar notebook to the original tendency analysis. Less data, but more information in our columns.*\n",
    "\n",
    "The main focus of this analysis is to see how offensive / defensive personnel matchups, distance from closest defender to targeted receiver, among others later detailed in the notebook. This is a unique opportunity to utilize tracking / location data of players as well.\n",
    "\n",
    "Other data bowls for reference:\n",
    "- https://www.kaggle.com/c/nfl-big-data-bowl-2020: Forecast yardage gained on the run plays\n",
    "- https://www.kaggle.com/c/nfl-big-data-bowl-2022: Analyze special teams data\n",
    "- https://github.com/nfl-football-ops/Big-Data-Bowl: Inaugural data bowl from 2019, useful R code on animation of tracking"
   ]
  },
  {
   "cell_type": "code",
   "execution_count": 1,
   "id": "bfe4b2ec",
   "metadata": {},
   "outputs": [],
   "source": [
    "import numpy as np\n",
    "import pandas as pd\n",
    "import matplotlib.pyplot as plt\n",
    "import seaborn as sns\n",
    "import os\n",
    "pd.set_option('display.max_columns', None)\n",
    "pd.options.mode.chained_assignment = None  # default='warn'"
   ]
  },
  {
   "cell_type": "code",
   "execution_count": 2,
   "id": "368ae97b",
   "metadata": {},
   "outputs": [
    {
     "name": "stderr",
     "output_type": "stream",
     "text": [
      "C:\\Users\\tshah\\Anaconda3\\lib\\site-packages\\IPython\\core\\interactiveshell.py:3165: DtypeWarning: Columns (47) have mixed types.Specify dtype option on import or set low_memory=False.\n",
      "  has_raised = await self.run_ast_nodes(code_ast.body, cell_name,\n"
     ]
    }
   ],
   "source": [
    "bdb_pass = pd.read_csv('nfl-big-data-bowl/pass-2018.csv')\n",
    "bdb_rush = pd.read_csv('nfl-big-data-bowl/rush.csv')"
   ]
  },
  {
   "cell_type": "markdown",
   "id": "a54c2113",
   "metadata": {},
   "source": [
    "# Useful Features Present in Both Datasets\n",
    "\n",
    "Before cleaning the data, from a cursory examination of our data, the main features I think will be useful in this analysis are the following. We can only use pre-snap features in this analysis, or else it defeats the purpose.\n",
    "\n",
    "- Type of play (run/pass): TARGET (need to create)\n",
    "- Drive number (need to create / merge with pbp)\n",
    "- Offensive / defensive team (`HomeTeamAbbr`, `VisitorTeamAbbr`, `PossessionTeam`, need to create `DefTeam`)\n",
    "- Quarter of the game (`Quarter`)\n",
    "- Down number (`Down`)\n",
    "- Time left in a quarter (`GameClock`, need to format this)\n",
    "- Yards to gain for a first down (`Distance`)\n",
    "- Yards to gain for a touchdown (100 minus current yardline position, `YardLine`)\n",
    "- Current score in the game (model as difference, `HomeScoreBeforePlay - VisitorScoreBeforePlay`)\n",
    "- Offensive formation (`OffenseFormation`)\n",
    "- Offensive personnel (`OffensePersonnel`)\n",
    "- Defenders in the box (`DefendersInTheBox`)\n",
    "- Defensive personnel (`DefensePersonnel`)\n",
    "- Week of season (`Week`)\n",
    "\n",
    "# Useful Features Present Only in Rushing Data\n",
    "\n",
    "Some features are only included in the rushing play data. However, for 2018 alone, we could match up the games and include further information in the analysis for pass plays as well.\n",
    "\n",
    "- Stadium type (`StadiumType`)\n",
    "- Turf or grass (`Turf`)\n",
    "- Weather in game (`GameWeather`)\n",
    "- Temperature on game day (`Temperature`)\n",
    "- Humidity on game day (`Humidity`)\n",
    "- Wind speed on game day (`WindSpeed`)\n",
    "- Wind direction (`WindDirection`)\n",
    "\n",
    "## Next Steps / Preparing Data\n",
    "\n",
    "- Is it more useful to do an analysis on an imbalanced dataset with rushing 2017-2019 and passing 2018, with only the first subset of features?\n",
    "- Or would I rather narrow down the rushing plays to only 2018, and use all features (can match up `GameID` and thus find the weather/stadium data by game for the passing plays as well)\n",
    "- Aside from that, still need to complete the following data cleaning steps regardless of which direction I choose:\n",
    "    - Merge both datasets into same format\n",
    "    - Ignore post-snap outcomes (i.e. yardage gained, direction of the run, play results, type of pass dropback)\n",
    "    - Ignore tracking data (for now) since all of it is post-snap movements\n",
    "        - Look into if I can see whether a play is in \"motion\" i.e. the WR shifting from the X spot to the slot\n",
    "        - I have the \"time of snap\" data, so there may be some potential?\n",
    "    - Change the offensive formation to one-hot encoded columns\n",
    "    - Change the personnel for offense and defense to one-hot encoded columns\n",
    "        - Or find a unique way to deal with this since there are many combinations, some with few observations\n",
    "    - Narrow down each play to a single row\n",
    "    - More TBD.."
   ]
  },
  {
   "cell_type": "markdown",
   "id": "ae576ecb",
   "metadata": {},
   "source": [
    "# Merging 2018 run/pass\n",
    "\n",
    "First I will try the simpler case, where we have more features but must narrow our scope to only 2018 plays. We can match these games on `GameID` which will remove run plays in 2017 and 2019. The key issue is that the run data contains many rows for the same play, since the tracking data is baked in. The solution is to remove the tracking data for the rush dataset, effectively leaving one row per play, then merging the two datasets on their `GameID`. I will do this below by grouping on `PlayID` and only retaining information on the play as a whole. Maybe I'll go back to individual players and see if there's an avenue to work with tracking data / pre-snap motion later and add it in as my own feature...we'll see."
   ]
  },
  {
   "cell_type": "code",
   "execution_count": 3,
   "id": "426e03bc",
   "metadata": {},
   "outputs": [
    {
     "name": "stdout",
     "output_type": "stream",
     "text": [
      "Unique pass game data provided: 253\n",
      "Unique rush game data provided: 688   (includes 2017, 2019)\n",
      "Unique pass play data provided: 19239\n",
      "Unique rush play data provided: 31007 (includes 2017, 2019)\n"
     ]
    }
   ],
   "source": [
    "print('Unique pass game data provided: {}'.format(bdb_pass['gameId'].nunique()))\n",
    "print('Unique rush game data provided: {}   (includes 2017, 2019)'.format(bdb_rush['GameId'].nunique()))\n",
    "print('Unique pass play data provided: {}'.format(bdb_pass['gameId'].count()))\n",
    "print('Unique rush play data provided: {} (includes 2017, 2019)'.format(bdb_rush['PlayId'].nunique()))"
   ]
  },
  {
   "cell_type": "code",
   "execution_count": 4,
   "id": "986b0006",
   "metadata": {},
   "outputs": [],
   "source": [
    "## Group by play ID, take first since the data we want is all the same\n",
    "## Don't care for any tracking / individual player data (yet)\n",
    "bdb_rush_play = bdb_rush.groupby('PlayId').first()"
   ]
  },
  {
   "cell_type": "code",
   "execution_count": 5,
   "id": "8392e969",
   "metadata": {},
   "outputs": [],
   "source": [
    "## List of things to drop\n",
    "to_drop = ['X','Y','S','A','Dis','Dir','Orientation','NflId','DisplayName',\n",
    "           'JerseyNumber','Season','NflIdRusher','PlayerHeight','PlayerWeight',\n",
    "           'PlayerBirthDate','PlayerCollegeName','Position', 'PlayDirection',\n",
    "           'TimeHandoff', 'TimeSnap', 'Yards', 'Team', 'Location']\n",
    "bdb_rush = bdb_rush_play.drop(to_drop, axis=1)\n",
    "## only 2018 rush plays\n",
    "bdb_rush_2018 = bdb_rush[bdb_rush['GameId'].astype('str').str[:4] == '2018']"
   ]
  },
  {
   "cell_type": "code",
   "execution_count": 6,
   "id": "7801a3ea",
   "metadata": {},
   "outputs": [
    {
     "name": "stdout",
     "output_type": "stream",
     "text": [
      "Unique pass game data provided: 253\n",
      "Unique rush game data provided: 256     (2018)\n",
      "Unique pass play data provided: 19239\n",
      "Unique rush play data provided: 11271   (2018)\n"
     ]
    }
   ],
   "source": [
    "print('Unique pass game data provided: {}'.format(bdb_pass['gameId'].nunique()))\n",
    "print('Unique rush game data provided: {}     (2018)'.format(bdb_rush_2018['GameId'].nunique()))\n",
    "print('Unique pass play data provided: {}'.format(bdb_pass['gameId'].count()))\n",
    "print('Unique rush play data provided: {}   (2018)'.format(bdb_rush_2018['GameId'].count()))"
   ]
  },
  {
   "cell_type": "code",
   "execution_count": 7,
   "id": "2aaa5b28",
   "metadata": {},
   "outputs": [],
   "source": [
    "bdb_rush_2018 = bdb_rush_2018.reset_index(drop=True)"
   ]
  },
  {
   "cell_type": "code",
   "execution_count": 8,
   "id": "a2e6e490",
   "metadata": {},
   "outputs": [
    {
     "data": {
      "text/plain": [
       "FieldPosition         142\n",
       "OffenseFormation        2\n",
       "DefendersInTheBox       1\n",
       "StadiumType           719\n",
       "GameWeather           767\n",
       "Temperature          1002\n",
       "Humidity              280\n",
       "WindSpeed            1394\n",
       "WindDirection        1654\n",
       "dtype: int64"
      ]
     },
     "execution_count": 8,
     "metadata": {},
     "output_type": "execute_result"
    }
   ],
   "source": [
    "# Show columns where we have missing data\n",
    "bdb_rush_2018.isnull().sum()[bdb_rush_2018.isnull().sum() > 0]"
   ]
  },
  {
   "cell_type": "code",
   "execution_count": 19,
   "id": "973bc588",
   "metadata": {},
   "outputs": [
    {
     "data": {
      "text/plain": [
       "array(['Cloudy', 'Rain', 'Scattered Showers', 'N/A (Indoors)',\n",
       "       'Cloudy and Cool', 'Partly Cloudy', 'Sunny', 'N/A Indoor', 'Clear',\n",
       "       'Controlled Climate', None, 'Fair', 'Rain Chance 40%',\n",
       "       'Light Rain', 'Clear and sunny', 'Mostly sunny', 'Sunny and warm',\n",
       "       'Mostly Cloudy', 'Mostly Sunny', 'Partly Sunny', 'Partly clear',\n",
       "       'cloudy', 'Cloudy, 50% change of rain', 'Clear and Sunny',\n",
       "       'Partly cloudy', 'Sunny, Windy', 'Clear and Cool', 'Clear skies',\n",
       "       'Sunny and clear', 'Hazy', 'Indoors', 'Mostly Sunny Skies',\n",
       "       'Partly Clouidy', 'Mostly cloudy', 'Clear Skies', 'Snow',\n",
       "       'Sunny Skies', 'Overcast', 'T: 51; H: 55; W: NW 10 mph',\n",
       "       'Cloudy, Rain', 'Rain shower', 'Clear and cold', 'Rainy',\n",
       "       'Sunny and cold'], dtype=object)"
      ]
     },
     "execution_count": 19,
     "metadata": {},
     "output_type": "execute_result"
    }
   ],
   "source": [
    "## FieldPosition\n",
    "# Upon examination, FieldPosition is None when at 50 yardline, replace None with 'MID'\n",
    "bdb_rush_2018.loc[bdb_rush_2018['FieldPosition'].isnull(), 'FieldPosition'] = 'MID'\n",
    "\n",
    "## Don't need to fix OffenseFormation or DefendersInTheBox...it's 3 plays...we can forgo that much\n",
    "\n",
    "# The three missing stadiums were MetLife, Stubhub, TIAA Bank Field...all Outdoor (from commented out command below)\n",
    "# print(bdb_rush_2018.loc[bdb_rush_2018['StadiumType'].isnull(), 'Stadium'].unique())\n",
    "bdb_rush_2018.loc[bdb_rush_2018['StadiumType'].isnull(), 'StadiumType'] = 'Outdoor'\n",
    "\n",
    "## When StadiumType is indoor, we dont have values for GameWeather, Temperature, Humidity, Windspeed, or Direction\n",
    "# First clean up StadiumType to be either indoor or outdoor\n",
    "bdb_rush_2018['StadiumType'] = ['Indoor' if st=='Retr. Roof - Closed' or st=='Indoors' or st=='Dome' or st=='Domed, closed'\n",
    "                                         or st=='Retr. Roof-Closed' or st=='Domed' else\n",
    "                                'Outdoor' if st=='Outdoors' or st=='Open' or st=='Retr. Roof - Open' or st=='Domed, Open'\n",
    "                                          or st=='Domed, open' or st=='Outside' or st=='Cloudy' or st=='Bowl'\n",
    "                                          or st=='Retractable Roof'\n",
    "                                else st for st in bdb_rush_2018['StadiumType']]\n",
    "\n",
    "\n",
    "## For the rest, no way to easily tell what the true values are for this data...\n",
    "## First, clean up the categorical values\n",
    "## GameWeather\n",
    "bdb_rush_2018['GameWeather'].unique()\n",
    "\n",
    "## Temperature\n",
    "#bdb_rush_2018['Temperature'].unique()\n",
    "\n",
    "## Humidity\n",
    "#bdb_rush_2018['Humidity'].unique()\n",
    "\n",
    "## WindSpeed\n",
    "#bdb_rush_2018['WindSpeed'].unique()\n",
    "\n",
    "## WindDirection\n",
    "#bdb_rush_2018['WindDirection'].unique()"
   ]
  },
  {
   "cell_type": "code",
   "execution_count": 11,
   "id": "a2d948e5",
   "metadata": {},
   "outputs": [
    {
     "data": {
      "text/plain": [
       "OffenseFormation        2\n",
       "DefendersInTheBox       1\n",
       "GameWeather           767\n",
       "Temperature          1002\n",
       "Humidity              280\n",
       "WindSpeed            1394\n",
       "WindDirection        1654\n",
       "dtype: int64"
      ]
     },
     "execution_count": 11,
     "metadata": {},
     "output_type": "execute_result"
    }
   ],
   "source": [
    "# Show columns where we have missing data after cleaning\n",
    "bdb_rush_2018.isnull().sum()[bdb_rush_2018.isnull().sum() > 0]"
   ]
  },
  {
   "cell_type": "code",
   "execution_count": 12,
   "id": "6d56685b",
   "metadata": {},
   "outputs": [],
   "source": [
    "## Align bdb_rush_2018 and bdb_pass_2018\n",
    "## Once these are aligned, we can create general features for the whole dataset at once\n",
    "to_drop = ['playId', 'playDescription', 'typeDropback', 'penaltyCodes', 'penaltyJerseyNumbers',\n",
    "           'epa', 'isDefensivePI', 'passResult','playType','numberOfPassRushers',\n",
    "           'offensePlayResult', 'playResult']\n",
    "bdb_pass_2018 = bdb_pass.drop(to_drop, axis=1)\n",
    "bdb_pass_2018['Type'] = 'pass'"
   ]
  },
  {
   "cell_type": "code",
   "execution_count": 13,
   "id": "14ffa9ae",
   "metadata": {},
   "outputs": [
    {
     "name": "stdout",
     "output_type": "stream",
     "text": [
      "Index(['GameId', 'YardLine', 'Quarter', 'GameClock', 'PossessionTeam', 'Down',\n",
      "       'Distance', 'FieldPosition', 'HomeScoreBeforePlay',\n",
      "       'VisitorScoreBeforePlay', 'OffenseFormation', 'OffensePersonnel',\n",
      "       'DefendersInTheBox', 'DefensePersonnel', 'HomeTeamAbbr',\n",
      "       'VisitorTeamAbbr', 'Week', 'Stadium', 'StadiumType', 'Turf',\n",
      "       'GameWeather', 'Temperature', 'Humidity', 'WindSpeed', 'WindDirection'],\n",
      "      dtype='object')\n",
      "Index(['gameId', 'quarter', 'down', 'yardsToGo', 'possessionTeam',\n",
      "       'yardlineSide', 'yardlineNumber', 'offenseFormation', 'personnelO',\n",
      "       'defendersInTheBox', 'personnelD', 'preSnapVisitorScore',\n",
      "       'preSnapHomeScore', 'gameClock', 'absoluteYardlineNumber', 'Type'],\n",
      "      dtype='object')\n"
     ]
    }
   ],
   "source": [
    "## Match columns between rush and pass\n",
    "print(bdb_rush_2018.columns)\n",
    "print(bdb_pass_2018.columns)"
   ]
  },
  {
   "cell_type": "code",
   "execution_count": 14,
   "id": "f01d22e1",
   "metadata": {},
   "outputs": [],
   "source": [
    "pass_cols = ['GameId', 'Quarter', 'Down', 'Distance', 'PossessionTeam',\n",
    "             'FieldPosition', 'YardLine', 'OffenseFormation', 'OffensePersonnel',\n",
    "             'DefendersInTheBox', 'DefensePersonnel', 'VisitorScoreBeforePlay',\n",
    "             'HomeScoreBeforePlay', 'GameClock', 'Distance for TD', 'Type']\n",
    "# assign column names\n",
    "bdb_pass_2018.columns = pass_cols\n",
    "\n",
    "## need to merge:\n",
    "# HomeTeamAbbr, VisitorTeamAbbr, Week, Stadium, StadiumType, Turf,\n",
    "# GameWeather, Temperature, Humidity, WindSpeed, WindDirection\n",
    "\n",
    "## need to make this myself, after merging\n",
    "# PosTeamScore, DefTeamScore, ScoreDifference, Redzone, Under2Min"
   ]
  },
  {
   "cell_type": "code",
   "execution_count": 15,
   "id": "9a2394c8",
   "metadata": {},
   "outputs": [],
   "source": [
    "## Merge both dataframes, then determine best way to fill in missing data\n",
    "bdb_2018 = pd.concat([bdb_rush_2018, bdb_pass_2018]).reset_index(drop=True)"
   ]
  },
  {
   "cell_type": "code",
   "execution_count": 16,
   "id": "f01f4721",
   "metadata": {},
   "outputs": [
    {
     "name": "stdout",
     "output_type": "stream",
     "text": [
      "Num of passing rows:  **19239**\n",
      "HomeTeamAbbr       19239\n",
      "VisitorTeamAbbr    19239\n",
      "Week               19239\n",
      "Stadium            19239\n",
      "StadiumType        19239\n",
      "Turf               19239\n",
      "dtype: int64\n"
     ]
    }
   ],
   "source": [
    "# find NaNs from passing data, there will be exactly 19239\n",
    "print('Num of passing rows:  **{}**'.format(len(bdb_pass_2018)))\n",
    "# these columns didn't exist in my initial data\n",
    "print(bdb_2018.isnull().sum()[bdb_2018.isnull().sum() == 19239])"
   ]
  },
  {
   "cell_type": "code",
   "execution_count": 17,
   "id": "0ab7e851",
   "metadata": {},
   "outputs": [],
   "source": [
    "## Fill in the columns that need merging and have exactly 19239\n",
    "# HomeTeamAbbr, VisitorTeamAbbr, Week, Stadium, Location, Turf\n",
    "bdb_2018['HomeTeamAbbr'] = bdb_2018.groupby('GameId')['HomeTeamAbbr'].transform('first')\n",
    "bdb_2018['VisitorTeamAbbr'] = bdb_2018.groupby('GameId')['VisitorTeamAbbr'].transform('first')\n",
    "bdb_2018['Week'] = bdb_2018.groupby('GameId')['Week'].transform('first')\n",
    "bdb_2018['Stadium'] = bdb_2018.groupby('GameId')['Stadium'].transform('first')\n",
    "bdb_2018['Turf'] = bdb_2018.groupby('GameId')['Turf'].transform('first')"
   ]
  },
  {
   "cell_type": "code",
   "execution_count": 18,
   "id": "261b8f6b",
   "metadata": {},
   "outputs": [
    {
     "name": "stdout",
     "output_type": "stream",
     "text": [
      "StadiumType    19239\n",
      "dtype: int64\n"
     ]
    }
   ],
   "source": [
    "## Features listed here can all be created when sufficient data is fulfilled\n",
    "print(bdb_2018.isnull().sum()[bdb_2018.isnull().sum() == 19239])"
   ]
  },
  {
   "cell_type": "code",
   "execution_count": 19,
   "id": "a540b3e8",
   "metadata": {},
   "outputs": [],
   "source": [
    "## Create features for complete data\n",
    "# Create DefensiveTeam variable\n",
    "bdb_2018['DefTeam'] = np.where(bdb_2018['PossessionTeam'] == bdb_2018['HomeTeamAbbr'], bdb_2018['VisitorTeamAbbr'], bdb_2018['HomeTeamAbbr'])\n",
    "\n",
    "# Change GameClock to integer of minutes\n",
    "min_left_qtr = pd.to_datetime(bdb_2018['GameClock'].str[:5])\n",
    "bdb_2018['Time Left in Quarter'] = min_left_qtr.dt.hour + (min_left_qtr.dt.minute/60)\n",
    "\n",
    "# Yards to go for first = Distance\n",
    "# Yards to go for TD = 100-YardLine\n",
    "bdb_2018['Distance for TD'] = 100 - bdb_2018['YardLine']\n",
    "\n",
    "# Current score in the game\n",
    "# Difference between PossessionTeam and DefTeam\n",
    "# First create \"PosTeamScore\" and \"DefTeamScore\", then take the difference\n",
    "bdb_2018['PosTeamScore'] = np.where(bdb_2018['PossessionTeam'] == bdb_2018['HomeTeamAbbr'], bdb_2018['HomeScoreBeforePlay'], bdb_2018['VisitorScoreBeforePlay'])\n",
    "bdb_2018['DefTeamScore'] = np.where(bdb_2018['DefTeam'] == bdb_2018['HomeTeamAbbr'], bdb_2018['HomeScoreBeforePlay'], bdb_2018['VisitorScoreBeforePlay'])\n",
    "bdb_2018['ScoreDifference'] = bdb_2018['PosTeamScore'] - bdb_2018['DefTeamScore']\n",
    "\n",
    "# create indicator if team is in Redzone (<= 20 yds to go from goal)\n",
    "bdb_2018['Redzone'] = np.where(bdb_2018['Distance for TD'] <= 20, 1, 0)\n",
    "\n",
    "# create indicator if time left in HALF is <= 2min\n",
    "bdb_2018['Under2Min'] = np.where(((bdb_2018['Time Left in Quarter']<=2.0) & (bdb_2018['Quarter']==2)|(bdb_2018['Quarter']==4)), 1, 0)\n",
    "\n",
    "# need to include drive #, timeout data"
   ]
  },
  {
   "cell_type": "code",
   "execution_count": null,
   "id": "d9f01741",
   "metadata": {},
   "outputs": [],
   "source": []
  }
 ],
 "metadata": {
  "kernelspec": {
   "display_name": "Python 3",
   "language": "python",
   "name": "python3"
  },
  "language_info": {
   "codemirror_mode": {
    "name": "ipython",
    "version": 3
   },
   "file_extension": ".py",
   "mimetype": "text/x-python",
   "name": "python",
   "nbconvert_exporter": "python",
   "pygments_lexer": "ipython3",
   "version": "3.8.8"
  }
 },
 "nbformat": 4,
 "nbformat_minor": 5
}
