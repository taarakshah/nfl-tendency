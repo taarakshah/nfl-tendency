{
 "cells": [
  {
   "cell_type": "markdown",
   "id": "4704dba6",
   "metadata": {},
   "source": [
    "# NFL Data Models and Results\n",
    "\n",
    "This notebook will go through the methodology of data collection, cleaning, and return a finished dataset of a narrowed-down analysis to passing/running plays in the 2018 NFL season. The data is obtained from the NFL's 2020 and 2021 Big Data Bowl:\n",
    "\n",
    "*There is potential to combine the 2020 data bowl data, which contains similar info to 2021 data bowl data except about rushing plays 2017-2019. Combining these sources to produce a similar notebook to the original tendency analysis. Less data, but more information in our columns.*\n",
    "\n",
    "The main focus of this analysis is to see how offensive / defensive personnel and the formation and defensive players on the field affect the decision to run or pass the ball. This can be a unique opportunity to utilize tracking / location data of players as well (which may be explored in a separate notebook).\n",
    "\n",
    "Data bowls for reference:\n",
    "- https://www.kaggle.com/c/nfl-big-data-bowl-2020: Forecast yardage gained on the run plays\n",
    "- https://www.kaggle.com/c/nfl-big-data-bowl-2021/: Forecast yardage gained on pass plays\n",
    "- https://www.kaggle.com/c/nfl-big-data-bowl-2022: Analyze special teams data\n",
    "- https://github.com/nfl-football-ops/Big-Data-Bowl: Inaugural data bowl from 2019, useful R code on animation of tracking"
   ]
  },
  {
   "cell_type": "code",
   "execution_count": 19,
   "id": "41e5d7ba",
   "metadata": {},
   "outputs": [],
   "source": [
    "import numpy as np\n",
    "import pandas as pd\n",
    "import matplotlib.pyplot as plt\n",
    "import seaborn as sns\n",
    "from sklearn.model_selection import train_test_split\n",
    "from sklearn.linear_model import LogisticRegression\n",
    "from sklearn.ensemble import RandomForestClassifier\n",
    "from sklearn.metrics import confusion_matrix, classification_report\n",
    "import xgboost as xgb\n",
    "import os\n",
    "pd.set_option('display.max_columns', None)\n",
    "pd.options.mode.chained_assignment = None  # default='warn'"
   ]
  },
  {
   "cell_type": "code",
   "execution_count": 20,
   "id": "8486fc20",
   "metadata": {},
   "outputs": [],
   "source": [
    "# Read in cleaned dataset\n",
    "bdb = pd.read_csv('bdb_2018.csv')\n",
    "\n",
    "# Split response vs train data\n",
    "bdb_y = np.where(bdb['Type']=='run', 1, 0) ## convert response variable to 1 for run, 0 for pass\n",
    "bdb_x = bdb.drop(['Type'], axis=1)"
   ]
  },
  {
   "cell_type": "markdown",
   "id": "ccb92cf9",
   "metadata": {},
   "source": [
    "# Models\n",
    "\n",
    "In this section, we train 3 models: logistic regression model, random forest model, and gradient-boosted decision trees with XGBoost.\n",
    "\n",
    "We do this on a train/test split of 75/25..I will include cross-validation in a more thorough development of these models."
   ]
  },
  {
   "cell_type": "code",
   "execution_count": 21,
   "id": "de5f753c",
   "metadata": {},
   "outputs": [
    {
     "name": "stdout",
     "output_type": "stream",
     "text": [
      "Training Rows: 21439\n",
      "Test Rows: 7147\n"
     ]
    }
   ],
   "source": [
    "# Create train / test split\n",
    "x_train, x_test, y_train, y_test = train_test_split(bdb_x, bdb_y, test_size=0.25, random_state=2022)\n",
    "print('Training Rows: {}\\nTest Rows: {}'.format(x_train.shape[0], x_test.shape[0]))"
   ]
  },
  {
   "cell_type": "code",
   "execution_count": 22,
   "id": "57aabab7",
   "metadata": {},
   "outputs": [
    {
     "name": "stderr",
     "output_type": "stream",
     "text": [
      "C:\\Users\\tshah\\Anaconda3\\lib\\site-packages\\sklearn\\linear_model\\_logistic.py:763: ConvergenceWarning: lbfgs failed to converge (status=1):\n",
      "STOP: TOTAL NO. of ITERATIONS REACHED LIMIT.\n",
      "\n",
      "Increase the number of iterations (max_iter) or scale the data as shown in:\n",
      "    https://scikit-learn.org/stable/modules/preprocessing.html\n",
      "Please also refer to the documentation for alternative solver options:\n",
      "    https://scikit-learn.org/stable/modules/linear_model.html#logistic-regression\n",
      "  n_iter_i = _check_optimize_result(\n"
     ]
    },
    {
     "data": {
      "text/plain": [
       "LogisticRegression()"
      ]
     },
     "execution_count": 22,
     "metadata": {},
     "output_type": "execute_result"
    }
   ],
   "source": [
    "## Train Logistic Regression model\n",
    "lr = LogisticRegression()\n",
    "lr.fit(x_train, y_train)"
   ]
  },
  {
   "cell_type": "code",
   "execution_count": 23,
   "id": "9d00d247",
   "metadata": {},
   "outputs": [],
   "source": [
    "## Train RF model"
   ]
  },
  {
   "cell_type": "code",
   "execution_count": 24,
   "id": "e0d507b4",
   "metadata": {},
   "outputs": [],
   "source": [
    "## Train XGBoost model"
   ]
  },
  {
   "cell_type": "code",
   "execution_count": null,
   "id": "d5b31968",
   "metadata": {},
   "outputs": [],
   "source": []
  },
  {
   "cell_type": "markdown",
   "id": "a8384534",
   "metadata": {},
   "source": [
    "# Results"
   ]
  },
  {
   "cell_type": "code",
   "execution_count": 42,
   "id": "ab698460",
   "metadata": {},
   "outputs": [
    {
     "data": {
      "text/plain": [
       "0.6215979850276359"
      ]
     },
     "execution_count": 42,
     "metadata": {},
     "output_type": "execute_result"
    }
   ],
   "source": [
    "1- (sum(bdb_y) / len(bdb_y)) ## Benchmark: We can get 62.16% success rate just guessing pass every play"
   ]
  },
  {
   "cell_type": "code",
   "execution_count": 14,
   "id": "7741436c",
   "metadata": {},
   "outputs": [
    {
     "data": {
      "text/plain": [
       "0.7412900517699734"
      ]
     },
     "execution_count": 14,
     "metadata": {},
     "output_type": "execute_result"
    }
   ],
   "source": [
    "## Predict logistic regression\n",
    "y_pred = lr.predict(x_test)\n",
    "lr.score(x_test, y_test)"
   ]
  },
  {
   "cell_type": "code",
   "execution_count": 15,
   "id": "c2041bdf",
   "metadata": {},
   "outputs": [
    {
     "data": {
      "text/plain": [
       "array([[3668,  767],\n",
       "       [1082, 1630]], dtype=int64)"
      ]
     },
     "execution_count": 15,
     "metadata": {},
     "output_type": "execute_result"
    }
   ],
   "source": [
    "confusion_matrix(y_test, y_pred)"
   ]
  },
  {
   "cell_type": "code",
   "execution_count": 18,
   "id": "9e385100",
   "metadata": {},
   "outputs": [
    {
     "name": "stdout",
     "output_type": "stream",
     "text": [
      "              precision    recall  f1-score   support\n",
      "\n",
      "           0       0.77      0.83      0.80      4435\n",
      "           1       0.68      0.60      0.64      2712\n",
      "\n",
      "    accuracy                           0.74      7147\n",
      "   macro avg       0.73      0.71      0.72      7147\n",
      "weighted avg       0.74      0.74      0.74      7147\n",
      "\n"
     ]
    }
   ],
   "source": [
    "print(classification_report(y_test, y_pred))"
   ]
  }
 ],
 "metadata": {
  "kernelspec": {
   "display_name": "Python 3",
   "language": "python",
   "name": "python3"
  },
  "language_info": {
   "codemirror_mode": {
    "name": "ipython",
    "version": 3
   },
   "file_extension": ".py",
   "mimetype": "text/x-python",
   "name": "python",
   "nbconvert_exporter": "python",
   "pygments_lexer": "ipython3",
   "version": "3.8.8"
  }
 },
 "nbformat": 4,
 "nbformat_minor": 5
}
